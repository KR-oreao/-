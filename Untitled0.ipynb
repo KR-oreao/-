{
  "nbformat": 4,
  "nbformat_minor": 0,
  "metadata": {
    "colab": {
      "name": "Untitled0.ipynb",
      "provenance": [],
      "collapsed_sections": [],
      "authorship_tag": "ABX9TyNJjA2FOpT90KkNMx6b72pi",
      "include_colab_link": true
    },
    "kernelspec": {
      "name": "python3",
      "display_name": "Python 3"
    },
    "accelerator": "GPU"
  },
  "cells": [
    {
      "cell_type": "markdown",
      "metadata": {
        "id": "view-in-github",
        "colab_type": "text"
      },
      "source": [
        "<a href=\"https://colab.research.google.com/github/KR-oreao/-/blob/master/Untitled0.ipynb\" target=\"_parent\"><img src=\"https://colab.research.google.com/assets/colab-badge.svg\" alt=\"Open In Colab\"/></a>"
      ]
    },
    {
      "cell_type": "code",
      "metadata": {
        "id": "XhNrYrLsxBxq",
        "colab_type": "code",
        "colab": {}
      },
      "source": [
        "!mkdir model"
      ],
      "execution_count": null,
      "outputs": []
    },
    {
      "cell_type": "code",
      "metadata": {
        "id": "Sc7WCNTxxOhe",
        "colab_type": "code",
        "colab": {
          "base_uri": "https://localhost:8080/",
          "height": 53
        },
        "outputId": "ca49f8a3-0a33-4aad-e36b-15685bbf0025"
      },
      "source": [
        "!ls -1"
      ],
      "execution_count": null,
      "outputs": [
        {
          "output_type": "stream",
          "text": [
            "model\n",
            "sample_data\n"
          ],
          "name": "stdout"
        }
      ]
    },
    {
      "cell_type": "code",
      "metadata": {
        "id": "ni07NTSwxUbc",
        "colab_type": "code",
        "colab": {
          "base_uri": "https://localhost:8080/",
          "height": 35
        },
        "outputId": "18eb9266-4855-46ae-c56f-c0088eed2fc0"
      },
      "source": [
        "\n",
        "import tensorflow as tf\n",
        "from tensorflow import keras\n",
        "from keras.datasets import cifar10\n",
        "from keras.preprocessing.image import ImageDataGenerator\n",
        "from keras.models import Sequential\n",
        "from keras.layers import Dense, Dropout, Activation, Flatten\n",
        "from keras.layers import Conv2D, MaxPooling2D\n",
        "import os\n",
        "import numpy as np"
      ],
      "execution_count": null,
      "outputs": [
        {
          "output_type": "stream",
          "text": [
            "Using TensorFlow backend.\n"
          ],
          "name": "stderr"
        }
      ]
    },
    {
      "cell_type": "code",
      "metadata": {
        "id": "qUeMTIeLxzI9",
        "colab_type": "code",
        "colab": {
          "base_uri": "https://localhost:8080/",
          "height": 107
        },
        "outputId": "25234d64-0bcf-4cd4-a55c-ffbb13708a14"
      },
      "source": [
        "(x_train, y_train0), (x_test, y_test0) = cifar10.load_data()\n",
        "print('x_train shape:', x_train.shape)\n",
        "print(x_train.shape[0], 'train samples')\n",
        "print(x_test.shape[0], 'test samples')"
      ],
      "execution_count": null,
      "outputs": [
        {
          "output_type": "stream",
          "text": [
            "Downloading data from https://www.cs.toronto.edu/~kriz/cifar-10-python.tar.gz\n",
            "170500096/170498071 [==============================] - 2s 0us/step\n",
            "x_train shape: (50000, 32, 32, 3)\n",
            "50000 train samples\n",
            "10000 test samples\n"
          ],
          "name": "stdout"
        }
      ]
    },
    {
      "cell_type": "code",
      "metadata": {
        "id": "3GxPrsuryHZF",
        "colab_type": "code",
        "colab": {}
      },
      "source": [
        "BATCH_SIZE = 32\n",
        "NUM_CLASSES = 10\n",
        "EPOCHS = 50\n",
        "DATA_AUGMENTATION = True\n",
        "NUM_PREDICTIONS = 20\n",
        "SAVE_DIR = os.path.join(os.getcwd(), 'model')\n",
        "MODEL_NAME = 'keras_cifar10_trained_model.h5'"
      ],
      "execution_count": null,
      "outputs": []
    },
    {
      "cell_type": "code",
      "metadata": {
        "id": "obCTMyoVyM1d",
        "colab_type": "code",
        "colab": {}
      },
      "source": [
        "seed=2020\n",
        "np.random.seed(seed)\n",
        "tf.random.set_seed(seed)"
      ],
      "execution_count": null,
      "outputs": []
    },
    {
      "cell_type": "code",
      "metadata": {
        "id": "SqiFpr1Wyais",
        "colab_type": "code",
        "colab": {
          "base_uri": "https://localhost:8080/",
          "height": 593
        },
        "outputId": "50f221cc-de5c-4788-85af-5130e342e719"
      },
      "source": [
        "\n",
        "model = Sequential()\n",
        "model.add(Conv2D(32, (3, 3), padding='same',\n",
        "                 input_shape=x_train.shape[1:], activation='relu'))\n",
        "model.add(Conv2D(32, (3, 3), activation='relu'))\n",
        "model.add(MaxPooling2D(pool_size=(2, 2)))\n",
        "model.add(Dropout(0.25))\n",
        "\n",
        "model.add(Conv2D(64, (3, 3), padding='same', activation='relu'))\n",
        "model.add(Conv2D(64, (3, 3), activation='relu'))\n",
        "model.add(MaxPooling2D(pool_size=(2, 2)))\n",
        "model.add(Dropout(0.25))\n",
        "\n",
        "model.add(Flatten())\n",
        "model.add(Dense(512, activation='relu'))\n",
        "model.add(Dropout(0.5))\n",
        "model.add(Dense(NUM_CLASSES, activation='softmax'))\n",
        "model.summary()"
      ],
      "execution_count": null,
      "outputs": [
        {
          "output_type": "stream",
          "text": [
            "Model: \"sequential_1\"\n",
            "_________________________________________________________________\n",
            "Layer (type)                 Output Shape              Param #   \n",
            "=================================================================\n",
            "conv2d_1 (Conv2D)            (None, 32, 32, 32)        896       \n",
            "_________________________________________________________________\n",
            "conv2d_2 (Conv2D)            (None, 30, 30, 32)        9248      \n",
            "_________________________________________________________________\n",
            "max_pooling2d_1 (MaxPooling2 (None, 15, 15, 32)        0         \n",
            "_________________________________________________________________\n",
            "dropout_1 (Dropout)          (None, 15, 15, 32)        0         \n",
            "_________________________________________________________________\n",
            "conv2d_3 (Conv2D)            (None, 15, 15, 64)        18496     \n",
            "_________________________________________________________________\n",
            "conv2d_4 (Conv2D)            (None, 13, 13, 64)        36928     \n",
            "_________________________________________________________________\n",
            "max_pooling2d_2 (MaxPooling2 (None, 6, 6, 64)          0         \n",
            "_________________________________________________________________\n",
            "dropout_2 (Dropout)          (None, 6, 6, 64)          0         \n",
            "_________________________________________________________________\n",
            "flatten_1 (Flatten)          (None, 2304)              0         \n",
            "_________________________________________________________________\n",
            "dense_1 (Dense)              (None, 512)               1180160   \n",
            "_________________________________________________________________\n",
            "dropout_3 (Dropout)          (None, 512)               0         \n",
            "_________________________________________________________________\n",
            "dense_2 (Dense)              (None, 10)                5130      \n",
            "=================================================================\n",
            "Total params: 1,250,858\n",
            "Trainable params: 1,250,858\n",
            "Non-trainable params: 0\n",
            "_________________________________________________________________\n"
          ],
          "name": "stdout"
        }
      ]
    },
    {
      "cell_type": "code",
      "metadata": {
        "id": "7qKMrvOwyd0N",
        "colab_type": "code",
        "colab": {}
      },
      "source": [
        "opt = tf.keras.optimizers.RMSprop(learning_rate=0.0001, decay=1e-6)"
      ],
      "execution_count": null,
      "outputs": []
    },
    {
      "cell_type": "code",
      "metadata": {
        "id": "dbb8qPdvygok",
        "colab_type": "code",
        "colab": {}
      },
      "source": [
        "model.compile(loss='categorical_crossentropy',\n",
        "              optimizer=opt,\n",
        "              metrics=['accuracy'])"
      ],
      "execution_count": null,
      "outputs": []
    },
    {
      "cell_type": "code",
      "metadata": {
        "id": "C0eRGPfSyiUc",
        "colab_type": "code",
        "colab": {}
      },
      "source": [
        "\n",
        "from keras.callbacks import ModelCheckpoint, EarlyStopping\n",
        "modelpath = \"model/cifar10-cnn-{epoch:02d}-{val_loss:.4f}.hdf5\"\n",
        "checkpointer = ModelCheckpoint(filepath=modelpath, monitor='val_loss', \n",
        "                               verbose=1, save_best_only=True)\n",
        "early_stopping_callback = EarlyStopping(monitor='val_loss', \n",
        "                                        patience=10)\n"
      ],
      "execution_count": null,
      "outputs": []
    },
    {
      "cell_type": "code",
      "metadata": {
        "id": "cZ6HHZXCylIt",
        "colab_type": "code",
        "colab": {}
      },
      "source": [
        "from sklearn.model_selection import train_test_split\n",
        "\n",
        "X_train, X_test, Y_train, Y_test = \\\n",
        "    train_test_split(x_test, y_test, stratify=y_test,\n",
        "                     test_size=.2, random_state=seed)"
      ],
      "execution_count": null,
      "outputs": []
    },
    {
      "cell_type": "code",
      "metadata": {
        "id": "p4omNLvQypPF",
        "colab_type": "code",
        "colab": {}
      },
      "source": [
        "from tensorflow.keras.utils import to_categorical\n",
        "y_train = to_categorical(y_train0, NUM_CLASSES)\n",
        "y_test = to_categorical(y_test0, NUM_CLASSES)"
      ],
      "execution_count": null,
      "outputs": []
    },
    {
      "cell_type": "code",
      "metadata": {
        "id": "DLbx1u-dyvfl",
        "colab_type": "code",
        "colab": {}
      },
      "source": [
        "x_train = x_train.astype('float32')/255\n",
        "x_test = x_test.astype('float32')/255"
      ],
      "execution_count": null,
      "outputs": []
    },
    {
      "cell_type": "code",
      "metadata": {
        "id": "JRlv2rsayzDd",
        "colab_type": "code",
        "colab": {
          "base_uri": "https://localhost:8080/",
          "height": 35
        },
        "outputId": "d021b820-d703-487e-cda3-b453d274b090"
      },
      "source": [
        "y_train0[0]"
      ],
      "execution_count": null,
      "outputs": [
        {
          "output_type": "execute_result",
          "data": {
            "text/plain": [
              "array([6], dtype=uint8)"
            ]
          },
          "metadata": {
            "tags": []
          },
          "execution_count": 15
        }
      ]
    },
    {
      "cell_type": "code",
      "metadata": {
        "id": "Fk1fi5aKy1js",
        "colab_type": "code",
        "colab": {
          "base_uri": "https://localhost:8080/",
          "height": 1000
        },
        "outputId": "974a3fc7-d327-4fb0-fe51-8863f37e67ab"
      },
      "source": [
        "\n",
        "model.fit(X_train, Y_train,\n",
        "          batch_size=BATCH_SIZE,\n",
        "          epochs=300, \n",
        "          validation_data=(X_test, Y_test),\n",
        "          shuffle=True,\n",
        "          callbacks=[early_stopping_callback, checkpointer])"
      ],
      "execution_count": null,
      "outputs": [
        {
          "output_type": "stream",
          "text": [
            "Train on 8000 samples, validate on 2000 samples\n",
            "Epoch 1/300\n",
            "8000/8000 [==============================] - 9s 1ms/step - loss: 2.2094 - accuracy: 0.1644 - val_loss: 2.0250 - val_accuracy: 0.2645\n",
            "\n",
            "Epoch 00001: val_loss improved from inf to 2.02504, saving model to model/cifar10-cnn-01-2.0250.hdf5\n",
            "Epoch 2/300\n",
            " 512/8000 [>.............................] - ETA: 2s - loss: 2.0783 - accuracy: 0.2598"
          ],
          "name": "stdout"
        },
        {
          "output_type": "stream",
          "text": [
            "/usr/local/lib/python3.6/dist-packages/keras/engine/saving.py:165: UserWarning: TensorFlow optimizers do not make it possible to access optimizer attributes or optimizer state after instantiation. As a result, we cannot save the optimizer as part of the model save file.You will have to compile your model again after loading it. Prefer using a Keras optimizer instead (see keras.io/optimizers).\n",
            "  'TensorFlow optimizers do not '\n"
          ],
          "name": "stderr"
        },
        {
          "output_type": "stream",
          "text": [
            "8000/8000 [==============================] - 3s 399us/step - loss: 1.9465 - accuracy: 0.2879 - val_loss: 1.8164 - val_accuracy: 0.3645\n",
            "\n",
            "Epoch 00002: val_loss improved from 2.02504 to 1.81642, saving model to model/cifar10-cnn-02-1.8164.hdf5\n",
            "Epoch 3/300\n",
            "8000/8000 [==============================] - 3s 397us/step - loss: 1.7844 - accuracy: 0.3550 - val_loss: 1.6964 - val_accuracy: 0.3940\n",
            "\n",
            "Epoch 00003: val_loss improved from 1.81642 to 1.69638, saving model to model/cifar10-cnn-03-1.6964.hdf5\n",
            "Epoch 4/300\n",
            "8000/8000 [==============================] - 3s 394us/step - loss: 1.6929 - accuracy: 0.3823 - val_loss: 1.6337 - val_accuracy: 0.4160\n",
            "\n",
            "Epoch 00004: val_loss improved from 1.69638 to 1.63367, saving model to model/cifar10-cnn-04-1.6337.hdf5\n",
            "Epoch 5/300\n",
            "8000/8000 [==============================] - 3s 389us/step - loss: 1.6288 - accuracy: 0.4100 - val_loss: 1.5703 - val_accuracy: 0.4280\n",
            "\n",
            "Epoch 00005: val_loss improved from 1.63367 to 1.57027, saving model to model/cifar10-cnn-05-1.5703.hdf5\n",
            "Epoch 6/300\n",
            "8000/8000 [==============================] - 3s 389us/step - loss: 1.5762 - accuracy: 0.4239 - val_loss: 1.5223 - val_accuracy: 0.4545\n",
            "\n",
            "Epoch 00006: val_loss improved from 1.57027 to 1.52230, saving model to model/cifar10-cnn-06-1.5223.hdf5\n",
            "Epoch 7/300\n",
            "8000/8000 [==============================] - 3s 390us/step - loss: 1.5301 - accuracy: 0.4374 - val_loss: 1.4766 - val_accuracy: 0.4600\n",
            "\n",
            "Epoch 00007: val_loss improved from 1.52230 to 1.47663, saving model to model/cifar10-cnn-07-1.4766.hdf5\n",
            "Epoch 8/300\n",
            "8000/8000 [==============================] - 3s 389us/step - loss: 1.4962 - accuracy: 0.4645 - val_loss: 1.4433 - val_accuracy: 0.4770\n",
            "\n",
            "Epoch 00008: val_loss improved from 1.47663 to 1.44331, saving model to model/cifar10-cnn-08-1.4433.hdf5\n",
            "Epoch 9/300\n",
            "8000/8000 [==============================] - 3s 387us/step - loss: 1.4503 - accuracy: 0.4746 - val_loss: 1.4512 - val_accuracy: 0.4860\n",
            "\n",
            "Epoch 00009: val_loss did not improve from 1.44331\n",
            "Epoch 10/300\n",
            "8000/8000 [==============================] - 3s 391us/step - loss: 1.4263 - accuracy: 0.4830 - val_loss: 1.4415 - val_accuracy: 0.4970\n",
            "\n",
            "Epoch 00010: val_loss improved from 1.44331 to 1.44147, saving model to model/cifar10-cnn-10-1.4415.hdf5\n",
            "Epoch 11/300\n",
            "8000/8000 [==============================] - 3s 381us/step - loss: 1.3981 - accuracy: 0.4940 - val_loss: 1.3909 - val_accuracy: 0.4980\n",
            "\n",
            "Epoch 00011: val_loss improved from 1.44147 to 1.39089, saving model to model/cifar10-cnn-11-1.3909.hdf5\n",
            "Epoch 12/300\n",
            "8000/8000 [==============================] - 3s 378us/step - loss: 1.3615 - accuracy: 0.5059 - val_loss: 1.3533 - val_accuracy: 0.5270\n",
            "\n",
            "Epoch 00012: val_loss improved from 1.39089 to 1.35330, saving model to model/cifar10-cnn-12-1.3533.hdf5\n",
            "Epoch 13/300\n",
            "8000/8000 [==============================] - 3s 378us/step - loss: 1.3394 - accuracy: 0.5176 - val_loss: 1.4419 - val_accuracy: 0.5095\n",
            "\n",
            "Epoch 00013: val_loss did not improve from 1.35330\n",
            "Epoch 14/300\n",
            "8000/8000 [==============================] - 3s 381us/step - loss: 1.3112 - accuracy: 0.5284 - val_loss: 1.2981 - val_accuracy: 0.5425\n",
            "\n",
            "Epoch 00014: val_loss improved from 1.35330 to 1.29813, saving model to model/cifar10-cnn-14-1.2981.hdf5\n",
            "Epoch 15/300\n",
            "8000/8000 [==============================] - 3s 383us/step - loss: 1.2995 - accuracy: 0.5339 - val_loss: 1.3054 - val_accuracy: 0.5475\n",
            "\n",
            "Epoch 00015: val_loss did not improve from 1.29813\n",
            "Epoch 16/300\n",
            "8000/8000 [==============================] - 3s 380us/step - loss: 1.2657 - accuracy: 0.5462 - val_loss: 1.3301 - val_accuracy: 0.5370\n",
            "\n",
            "Epoch 00016: val_loss did not improve from 1.29813\n",
            "Epoch 17/300\n",
            "8000/8000 [==============================] - 3s 385us/step - loss: 1.2399 - accuracy: 0.5585 - val_loss: 1.3011 - val_accuracy: 0.5435\n",
            "\n",
            "Epoch 00017: val_loss did not improve from 1.29813\n",
            "Epoch 18/300\n",
            "8000/8000 [==============================] - 3s 378us/step - loss: 1.2258 - accuracy: 0.5601 - val_loss: 1.2533 - val_accuracy: 0.5610\n",
            "\n",
            "Epoch 00018: val_loss improved from 1.29813 to 1.25331, saving model to model/cifar10-cnn-18-1.2533.hdf5\n",
            "Epoch 19/300\n",
            "8000/8000 [==============================] - 3s 380us/step - loss: 1.1979 - accuracy: 0.5764 - val_loss: 1.2276 - val_accuracy: 0.5705\n",
            "\n",
            "Epoch 00019: val_loss improved from 1.25331 to 1.22761, saving model to model/cifar10-cnn-19-1.2276.hdf5\n",
            "Epoch 20/300\n",
            "8000/8000 [==============================] - 3s 384us/step - loss: 1.1787 - accuracy: 0.5804 - val_loss: 1.2553 - val_accuracy: 0.5655\n",
            "\n",
            "Epoch 00020: val_loss did not improve from 1.22761\n",
            "Epoch 21/300\n",
            "8000/8000 [==============================] - 3s 401us/step - loss: 1.1750 - accuracy: 0.5867 - val_loss: 1.2019 - val_accuracy: 0.5795\n",
            "\n",
            "Epoch 00021: val_loss improved from 1.22761 to 1.20193, saving model to model/cifar10-cnn-21-1.2019.hdf5\n",
            "Epoch 22/300\n",
            "8000/8000 [==============================] - 3s 422us/step - loss: 1.1383 - accuracy: 0.5962 - val_loss: 1.2046 - val_accuracy: 0.5785\n",
            "\n",
            "Epoch 00022: val_loss did not improve from 1.20193\n",
            "Epoch 23/300\n",
            "8000/8000 [==============================] - 3s 417us/step - loss: 1.1355 - accuracy: 0.6012 - val_loss: 1.1756 - val_accuracy: 0.5810\n",
            "\n",
            "Epoch 00023: val_loss improved from 1.20193 to 1.17562, saving model to model/cifar10-cnn-23-1.1756.hdf5\n",
            "Epoch 24/300\n",
            "8000/8000 [==============================] - 3s 418us/step - loss: 1.1124 - accuracy: 0.6024 - val_loss: 1.1642 - val_accuracy: 0.5985\n",
            "\n",
            "Epoch 00024: val_loss improved from 1.17562 to 1.16420, saving model to model/cifar10-cnn-24-1.1642.hdf5\n",
            "Epoch 25/300\n",
            "8000/8000 [==============================] - 3s 392us/step - loss: 1.0870 - accuracy: 0.6086 - val_loss: 1.1592 - val_accuracy: 0.5960\n",
            "\n",
            "Epoch 00025: val_loss improved from 1.16420 to 1.15923, saving model to model/cifar10-cnn-25-1.1592.hdf5\n",
            "Epoch 26/300\n",
            "8000/8000 [==============================] - 3s 387us/step - loss: 1.0741 - accuracy: 0.6251 - val_loss: 1.1509 - val_accuracy: 0.6045\n",
            "\n",
            "Epoch 00026: val_loss improved from 1.15923 to 1.15091, saving model to model/cifar10-cnn-26-1.1509.hdf5\n",
            "Epoch 27/300\n",
            "8000/8000 [==============================] - 3s 386us/step - loss: 1.0494 - accuracy: 0.6315 - val_loss: 1.1528 - val_accuracy: 0.5985\n",
            "\n",
            "Epoch 00027: val_loss did not improve from 1.15091\n",
            "Epoch 28/300\n",
            "8000/8000 [==============================] - 3s 387us/step - loss: 1.0367 - accuracy: 0.6317 - val_loss: 1.1366 - val_accuracy: 0.6030\n",
            "\n",
            "Epoch 00028: val_loss improved from 1.15091 to 1.13659, saving model to model/cifar10-cnn-28-1.1366.hdf5\n",
            "Epoch 29/300\n",
            "8000/8000 [==============================] - 3s 386us/step - loss: 1.0255 - accuracy: 0.6394 - val_loss: 1.1244 - val_accuracy: 0.5995\n",
            "\n",
            "Epoch 00029: val_loss improved from 1.13659 to 1.12437, saving model to model/cifar10-cnn-29-1.1244.hdf5\n",
            "Epoch 30/300\n",
            "8000/8000 [==============================] - 3s 388us/step - loss: 1.0024 - accuracy: 0.6510 - val_loss: 1.1308 - val_accuracy: 0.6030\n",
            "\n",
            "Epoch 00030: val_loss did not improve from 1.12437\n",
            "Epoch 31/300\n",
            "8000/8000 [==============================] - 3s 388us/step - loss: 0.9876 - accuracy: 0.6540 - val_loss: 1.1066 - val_accuracy: 0.6180\n",
            "\n",
            "Epoch 00031: val_loss improved from 1.12437 to 1.10663, saving model to model/cifar10-cnn-31-1.1066.hdf5\n",
            "Epoch 32/300\n",
            "8000/8000 [==============================] - 3s 390us/step - loss: 0.9662 - accuracy: 0.6631 - val_loss: 1.1004 - val_accuracy: 0.6215\n",
            "\n",
            "Epoch 00032: val_loss improved from 1.10663 to 1.10039, saving model to model/cifar10-cnn-32-1.1004.hdf5\n",
            "Epoch 33/300\n",
            "8000/8000 [==============================] - 3s 389us/step - loss: 0.9499 - accuracy: 0.6671 - val_loss: 1.1199 - val_accuracy: 0.6190\n",
            "\n",
            "Epoch 00033: val_loss did not improve from 1.10039\n",
            "Epoch 34/300\n",
            "8000/8000 [==============================] - 3s 392us/step - loss: 0.9439 - accuracy: 0.6664 - val_loss: 1.1922 - val_accuracy: 0.6045\n",
            "\n",
            "Epoch 00034: val_loss did not improve from 1.10039\n",
            "Epoch 35/300\n",
            "8000/8000 [==============================] - 3s 391us/step - loss: 0.9222 - accuracy: 0.6830 - val_loss: 1.1302 - val_accuracy: 0.6050\n",
            "\n",
            "Epoch 00035: val_loss did not improve from 1.10039\n",
            "Epoch 36/300\n",
            "8000/8000 [==============================] - 3s 392us/step - loss: 0.9131 - accuracy: 0.6751 - val_loss: 1.0645 - val_accuracy: 0.6275\n",
            "\n",
            "Epoch 00036: val_loss improved from 1.10039 to 1.06451, saving model to model/cifar10-cnn-36-1.0645.hdf5\n",
            "Epoch 37/300\n",
            "8000/8000 [==============================] - 3s 386us/step - loss: 0.8860 - accuracy: 0.6930 - val_loss: 1.0762 - val_accuracy: 0.6355\n",
            "\n",
            "Epoch 00037: val_loss did not improve from 1.06451\n",
            "Epoch 38/300\n",
            "8000/8000 [==============================] - 3s 387us/step - loss: 0.8854 - accuracy: 0.6834 - val_loss: 1.0580 - val_accuracy: 0.6345\n",
            "\n",
            "Epoch 00038: val_loss improved from 1.06451 to 1.05799, saving model to model/cifar10-cnn-38-1.0580.hdf5\n",
            "Epoch 39/300\n",
            "8000/8000 [==============================] - 3s 396us/step - loss: 0.8590 - accuracy: 0.7003 - val_loss: 1.0999 - val_accuracy: 0.6230\n",
            "\n",
            "Epoch 00039: val_loss did not improve from 1.05799\n",
            "Epoch 40/300\n",
            "8000/8000 [==============================] - 3s 391us/step - loss: 0.8518 - accuracy: 0.7013 - val_loss: 1.0555 - val_accuracy: 0.6380\n",
            "\n",
            "Epoch 00040: val_loss improved from 1.05799 to 1.05553, saving model to model/cifar10-cnn-40-1.0555.hdf5\n",
            "Epoch 41/300\n",
            "8000/8000 [==============================] - 3s 392us/step - loss: 0.8305 - accuracy: 0.7107 - val_loss: 1.0830 - val_accuracy: 0.6300\n",
            "\n",
            "Epoch 00041: val_loss did not improve from 1.05553\n",
            "Epoch 42/300\n",
            "8000/8000 [==============================] - 3s 393us/step - loss: 0.8178 - accuracy: 0.7129 - val_loss: 1.0698 - val_accuracy: 0.6245\n",
            "\n",
            "Epoch 00042: val_loss did not improve from 1.05553\n",
            "Epoch 43/300\n",
            "8000/8000 [==============================] - 3s 389us/step - loss: 0.8156 - accuracy: 0.7130 - val_loss: 1.0812 - val_accuracy: 0.6290\n",
            "\n",
            "Epoch 00043: val_loss did not improve from 1.05553\n",
            "Epoch 44/300\n",
            "8000/8000 [==============================] - 3s 391us/step - loss: 0.7897 - accuracy: 0.7234 - val_loss: 1.0412 - val_accuracy: 0.6475\n",
            "\n",
            "Epoch 00044: val_loss improved from 1.05553 to 1.04118, saving model to model/cifar10-cnn-44-1.0412.hdf5\n",
            "Epoch 45/300\n",
            "8000/8000 [==============================] - 3s 406us/step - loss: 0.7910 - accuracy: 0.7237 - val_loss: 1.0485 - val_accuracy: 0.6415\n",
            "\n",
            "Epoch 00045: val_loss did not improve from 1.04118\n",
            "Epoch 46/300\n",
            "8000/8000 [==============================] - 3s 394us/step - loss: 0.7699 - accuracy: 0.7299 - val_loss: 1.0370 - val_accuracy: 0.6370\n",
            "\n",
            "Epoch 00046: val_loss improved from 1.04118 to 1.03696, saving model to model/cifar10-cnn-46-1.0370.hdf5\n",
            "Epoch 47/300\n",
            "8000/8000 [==============================] - 3s 395us/step - loss: 0.7611 - accuracy: 0.7318 - val_loss: 1.0739 - val_accuracy: 0.6285\n",
            "\n",
            "Epoch 00047: val_loss did not improve from 1.03696\n",
            "Epoch 48/300\n",
            "8000/8000 [==============================] - 3s 393us/step - loss: 0.7458 - accuracy: 0.7416 - val_loss: 1.0346 - val_accuracy: 0.6500\n",
            "\n",
            "Epoch 00048: val_loss improved from 1.03696 to 1.03462, saving model to model/cifar10-cnn-48-1.0346.hdf5\n",
            "Epoch 49/300\n",
            "8000/8000 [==============================] - 3s 393us/step - loss: 0.7341 - accuracy: 0.7450 - val_loss: 1.1116 - val_accuracy: 0.6350\n",
            "\n",
            "Epoch 00049: val_loss did not improve from 1.03462\n",
            "Epoch 50/300\n",
            "8000/8000 [==============================] - 3s 396us/step - loss: 0.7246 - accuracy: 0.7517 - val_loss: 1.0203 - val_accuracy: 0.6505\n",
            "\n",
            "Epoch 00050: val_loss improved from 1.03462 to 1.02029, saving model to model/cifar10-cnn-50-1.0203.hdf5\n",
            "Epoch 51/300\n",
            "8000/8000 [==============================] - 3s 389us/step - loss: 0.7123 - accuracy: 0.7517 - val_loss: 1.0450 - val_accuracy: 0.6480\n",
            "\n",
            "Epoch 00051: val_loss did not improve from 1.02029\n",
            "Epoch 52/300\n",
            "8000/8000 [==============================] - 3s 392us/step - loss: 0.7038 - accuracy: 0.7554 - val_loss: 1.0214 - val_accuracy: 0.6560\n",
            "\n",
            "Epoch 00052: val_loss did not improve from 1.02029\n",
            "Epoch 53/300\n",
            "8000/8000 [==============================] - 3s 397us/step - loss: 0.6884 - accuracy: 0.7626 - val_loss: 1.0379 - val_accuracy: 0.6515\n",
            "\n",
            "Epoch 00053: val_loss did not improve from 1.02029\n",
            "Epoch 54/300\n",
            "8000/8000 [==============================] - 3s 392us/step - loss: 0.6801 - accuracy: 0.7619 - val_loss: 1.0844 - val_accuracy: 0.6325\n",
            "\n",
            "Epoch 00054: val_loss did not improve from 1.02029\n",
            "Epoch 55/300\n",
            "8000/8000 [==============================] - 3s 392us/step - loss: 0.6635 - accuracy: 0.7741 - val_loss: 1.0400 - val_accuracy: 0.6505\n",
            "\n",
            "Epoch 00055: val_loss did not improve from 1.02029\n",
            "Epoch 56/300\n",
            "8000/8000 [==============================] - 3s 395us/step - loss: 0.6475 - accuracy: 0.7766 - val_loss: 1.0667 - val_accuracy: 0.6490\n",
            "\n",
            "Epoch 00056: val_loss did not improve from 1.02029\n",
            "Epoch 57/300\n",
            "8000/8000 [==============================] - 3s 391us/step - loss: 0.6459 - accuracy: 0.7796 - val_loss: 1.0328 - val_accuracy: 0.6645\n",
            "\n",
            "Epoch 00057: val_loss did not improve from 1.02029\n",
            "Epoch 58/300\n",
            "8000/8000 [==============================] - 3s 393us/step - loss: 0.6360 - accuracy: 0.7804 - val_loss: 1.0669 - val_accuracy: 0.6490\n",
            "\n",
            "Epoch 00058: val_loss did not improve from 1.02029\n",
            "Epoch 59/300\n",
            "8000/8000 [==============================] - 3s 393us/step - loss: 0.6326 - accuracy: 0.7759 - val_loss: 1.0860 - val_accuracy: 0.6545\n",
            "\n",
            "Epoch 00059: val_loss did not improve from 1.02029\n",
            "Epoch 60/300\n",
            "8000/8000 [==============================] - 3s 397us/step - loss: 0.6303 - accuracy: 0.7814 - val_loss: 1.0349 - val_accuracy: 0.6480\n",
            "\n",
            "Epoch 00060: val_loss did not improve from 1.02029\n"
          ],
          "name": "stdout"
        },
        {
          "output_type": "execute_result",
          "data": {
            "text/plain": [
              "<keras.callbacks.callbacks.History at 0x7f6dff7fa128>"
            ]
          },
          "metadata": {
            "tags": []
          },
          "execution_count": 17
        }
      ]
    },
    {
      "cell_type": "code",
      "metadata": {
        "id": "fPIW6E0Ny5r0",
        "colab_type": "code",
        "colab": {
          "base_uri": "https://localhost:8080/",
          "height": 71
        },
        "outputId": "056b3f19-4f40-435f-f0cd-e9f85e5edece"
      },
      "source": [
        "scores = model.evaluate(X_test, Y_test, verbose=1)\n",
        "print('Test loss:', scores[0])\n",
        "print('Test accuracy:', scores[1])"
      ],
      "execution_count": null,
      "outputs": [
        {
          "output_type": "stream",
          "text": [
            "2000/2000 [==============================] - 0s 179us/step\n",
            "Test loss: 1.0348797063827515\n",
            "Test accuracy: 0.6480000019073486\n"
          ],
          "name": "stdout"
        }
      ]
    },
    {
      "cell_type": "code",
      "metadata": {
        "id": "H9oxu48o1R-9",
        "colab_type": "code",
        "colab": {
          "base_uri": "https://localhost:8080/",
          "height": 575
        },
        "outputId": "060c0196-3cca-416c-96d2-4a471922cb7f"
      },
      "source": [
        "ls-l model"
      ],
      "execution_count": null,
      "outputs": [
        {
          "output_type": "stream",
          "text": [
            "total 147720\n",
            "-rw-r--r-- 1 root root 5038280 Jul  7 05:47 cifar10-cnn-01-2.0250.hdf5\n",
            "-rw-r--r-- 1 root root 5038280 Jul  7 05:47 cifar10-cnn-02-1.8164.hdf5\n",
            "-rw-r--r-- 1 root root 5038280 Jul  7 05:47 cifar10-cnn-03-1.6964.hdf5\n",
            "-rw-r--r-- 1 root root 5038280 Jul  7 05:47 cifar10-cnn-04-1.6337.hdf5\n",
            "-rw-r--r-- 1 root root 5038280 Jul  7 05:47 cifar10-cnn-05-1.5703.hdf5\n",
            "-rw-r--r-- 1 root root 5038280 Jul  7 05:47 cifar10-cnn-06-1.5223.hdf5\n",
            "-rw-r--r-- 1 root root 5038280 Jul  7 05:47 cifar10-cnn-07-1.4766.hdf5\n",
            "-rw-r--r-- 1 root root 5038280 Jul  7 05:47 cifar10-cnn-08-1.4433.hdf5\n",
            "-rw-r--r-- 1 root root 5038280 Jul  7 05:48 cifar10-cnn-10-1.4415.hdf5\n",
            "-rw-r--r-- 1 root root 5038280 Jul  7 05:48 cifar10-cnn-11-1.3909.hdf5\n",
            "-rw-r--r-- 1 root root 5038280 Jul  7 05:48 cifar10-cnn-12-1.3533.hdf5\n",
            "-rw-r--r-- 1 root root 5038280 Jul  7 05:48 cifar10-cnn-14-1.2981.hdf5\n",
            "-rw-r--r-- 1 root root 5038280 Jul  7 05:48 cifar10-cnn-18-1.2533.hdf5\n",
            "-rw-r--r-- 1 root root 5038280 Jul  7 05:48 cifar10-cnn-19-1.2276.hdf5\n",
            "-rw-r--r-- 1 root root 5038280 Jul  7 05:48 cifar10-cnn-21-1.2019.hdf5\n",
            "-rw-r--r-- 1 root root 5038280 Jul  7 05:48 cifar10-cnn-23-1.1756.hdf5\n",
            "-rw-r--r-- 1 root root 5038280 Jul  7 05:48 cifar10-cnn-24-1.1642.hdf5\n",
            "-rw-r--r-- 1 root root 5038280 Jul  7 05:48 cifar10-cnn-25-1.1592.hdf5\n",
            "-rw-r--r-- 1 root root 5038280 Jul  7 05:48 cifar10-cnn-26-1.1509.hdf5\n",
            "-rw-r--r-- 1 root root 5038280 Jul  7 05:48 cifar10-cnn-28-1.1366.hdf5\n",
            "-rw-r--r-- 1 root root 5038280 Jul  7 05:49 cifar10-cnn-29-1.1244.hdf5\n",
            "-rw-r--r-- 1 root root 5038280 Jul  7 05:49 cifar10-cnn-31-1.1066.hdf5\n",
            "-rw-r--r-- 1 root root 5038280 Jul  7 05:49 cifar10-cnn-32-1.1004.hdf5\n",
            "-rw-r--r-- 1 root root 5038280 Jul  7 05:49 cifar10-cnn-36-1.0645.hdf5\n",
            "-rw-r--r-- 1 root root 5038280 Jul  7 05:49 cifar10-cnn-38-1.0580.hdf5\n",
            "-rw-r--r-- 1 root root 5038280 Jul  7 05:49 cifar10-cnn-40-1.0555.hdf5\n",
            "-rw-r--r-- 1 root root 5038280 Jul  7 05:49 cifar10-cnn-44-1.0412.hdf5\n",
            "-rw-r--r-- 1 root root 5038280 Jul  7 05:49 cifar10-cnn-46-1.0370.hdf5\n",
            "-rw-r--r-- 1 root root 5038280 Jul  7 05:50 cifar10-cnn-48-1.0346.hdf5\n",
            "-rw-r--r-- 1 root root 5038280 Jul  7 05:50 cifar10-cnn-50-1.0203.hdf5\n"
          ],
          "name": "stdout"
        }
      ]
    },
    {
      "cell_type": "code",
      "metadata": {
        "id": "_PbLEZZd4SDF",
        "colab_type": "code",
        "colab": {
          "base_uri": "https://localhost:8080/",
          "height": 35
        },
        "outputId": "50c59af8-3f74-4731-e1e7-29eeb15c89da"
      },
      "source": [
        "! git add .\n"
      ],
      "execution_count": null,
      "outputs": [
        {
          "output_type": "stream",
          "text": [
            "fatal: not a git repository (or any of the parent directories): .git\n"
          ],
          "name": "stdout"
        }
      ]
    },
    {
      "cell_type": "code",
      "metadata": {
        "id": "3etAS3cH6KS-",
        "colab_type": "code",
        "colab": {
          "base_uri": "https://localhost:8080/",
          "height": 35
        },
        "outputId": "310b966a-647b-4006-964f-cae3c353a116"
      },
      "source": [
        "!git clone https://github.com/KR-oreao/deeplearning_study.git"
      ],
      "execution_count": null,
      "outputs": [
        {
          "output_type": "stream",
          "text": [
            "fatal: destination path 'deeplearning_study' already exists and is not an empty directory.\n"
          ],
          "name": "stdout"
        }
      ]
    },
    {
      "cell_type": "code",
      "metadata": {
        "id": "4h1C3QcV6oag",
        "colab_type": "code",
        "colab": {
          "base_uri": "https://localhost:8080/",
          "height": 35
        },
        "outputId": "7f080038-61c6-4497-c8b2-e53fb37302c6"
      },
      "source": [
        "!git init"
      ],
      "execution_count": null,
      "outputs": [
        {
          "output_type": "stream",
          "text": [
            "Initialized empty Git repository in /content/.git/\n"
          ],
          "name": "stdout"
        }
      ]
    },
    {
      "cell_type": "code",
      "metadata": {
        "id": "q-otPCkW7Wdl",
        "colab_type": "code",
        "colab": {
          "base_uri": "https://localhost:8080/",
          "height": 35
        },
        "outputId": "dc5f165d-d262-40a5-acb1-e5d3f61da2fc"
      },
      "source": [
        "!git add README.md"
      ],
      "execution_count": null,
      "outputs": [
        {
          "output_type": "stream",
          "text": [
            "fatal: pathspec 'README.md' did not match any files\n"
          ],
          "name": "stdout"
        }
      ]
    },
    {
      "cell_type": "code",
      "metadata": {
        "id": "leDS2BRK7Z41",
        "colab_type": "code",
        "colab": {
          "base_uri": "https://localhost:8080/",
          "height": 233
        },
        "outputId": "72c08ed5-f6fe-4b24-f0f2-fac3ea985521"
      },
      "source": [
        "!git commit -m \"dik\""
      ],
      "execution_count": null,
      "outputs": [
        {
          "output_type": "stream",
          "text": [
            "\n",
            "*** Please tell me who you are.\n",
            "\n",
            "Run\n",
            "\n",
            "  git config --global user.email \"you@example.com\"\n",
            "  git config --global user.name \"Your Name\"\n",
            "\n",
            "to set your account's default identity.\n",
            "Omit --global to set the identity only in this repository.\n",
            "\n",
            "fatal: unable to auto-detect email address (got 'root@50bfef3f7526.(none)')\n"
          ],
          "name": "stdout"
        }
      ]
    },
    {
      "cell_type": "code",
      "metadata": {
        "id": "_KlTbrrH7dst",
        "colab_type": "code",
        "colab": {}
      },
      "source": [
        "!git remote add origin https://github.com/KR-oreao/deeplearning_study.git"
      ],
      "execution_count": null,
      "outputs": []
    },
    {
      "cell_type": "code",
      "metadata": {
        "id": "LBbWifHC7uys",
        "colab_type": "code",
        "colab": {
          "base_uri": "https://localhost:8080/",
          "height": 53
        },
        "outputId": "562c97b0-d92d-49e9-ba8e-8f48f6ffcc7a"
      },
      "source": [
        "!git push -u origin master"
      ],
      "execution_count": null,
      "outputs": [
        {
          "output_type": "stream",
          "text": [
            "error: src refspec master does not match any.\n",
            "error: failed to push some refs to 'https://github.com/KR-oreao/deeplearning_study.git'\n"
          ],
          "name": "stdout"
        }
      ]
    },
    {
      "cell_type": "code",
      "metadata": {
        "id": "lJzNrpfa7z4F",
        "colab_type": "code",
        "colab": {}
      },
      "source": [
        ""
      ],
      "execution_count": null,
      "outputs": []
    }
  ]
}